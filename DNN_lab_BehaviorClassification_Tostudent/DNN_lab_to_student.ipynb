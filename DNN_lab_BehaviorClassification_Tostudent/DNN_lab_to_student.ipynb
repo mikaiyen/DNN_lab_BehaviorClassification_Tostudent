{
 "cells": [
  {
   "cell_type": "code",
   "execution_count": null,
   "id": "70bca666",
   "metadata": {},
   "outputs": [],
   "source": [
    "# import library you use"
   ]
  },
  {
   "cell_type": "markdown",
   "id": "73b3d703",
   "metadata": {},
   "source": [
    "# Training phase"
   ]
  },
  {
   "cell_type": "markdown",
   "id": "f67defbf",
   "metadata": {},
   "source": [
    "### Load Data"
   ]
  },
  {
   "cell_type": "code",
   "execution_count": null,
   "id": "6639bdbb",
   "metadata": {},
   "outputs": [],
   "source": [
    "# load train.csv and training-label.csv"
   ]
  },
  {
   "cell_type": "markdown",
   "id": "74ee8f2c",
   "metadata": {},
   "source": [
    "### Data Preprocessing"
   ]
  },
  {
   "cell_type": "code",
   "execution_count": null,
   "id": "8b71ebea",
   "metadata": {
    "scrolled": true
   },
   "outputs": [],
   "source": [
    "# drop created_time column"
   ]
  },
  {
   "cell_type": "code",
   "execution_count": null,
   "id": "e16dbbcf",
   "metadata": {},
   "outputs": [],
   "source": [
    "# Count whether each mac_hash has passed through these 14 locations, and generate a training dataframe"
   ]
  },
  {
   "cell_type": "code",
   "execution_count": null,
   "id": "b09363aa",
   "metadata": {
    "scrolled": true
   },
   "outputs": [],
   "source": [
    "# Add label column"
   ]
  },
  {
   "cell_type": "markdown",
   "id": "0c11f6a1",
   "metadata": {},
   "source": [
    "### Training"
   ]
  },
  {
   "cell_type": "code",
   "execution_count": null,
   "id": "a15973ef",
   "metadata": {
    "scrolled": false
   },
   "outputs": [],
   "source": [
    "# X: feature from training dataframe"
   ]
  },
  {
   "cell_type": "code",
   "execution_count": null,
   "id": "51caaab5",
   "metadata": {
    "scrolled": false
   },
   "outputs": [],
   "source": [
    "# Y: label from training dataframe\n",
    "# you need to change your label from categorical encoding to one-hot encoding"
   ]
  },
  {
   "cell_type": "code",
   "execution_count": null,
   "id": "6aecfc77",
   "metadata": {},
   "outputs": [],
   "source": [
    "# split your dataset as training dataset and validation dataset\n",
    "# using train_test_split function,\n",
    "### training dataset : validation dataset = 8 : 2\n",
    "### random_state = 0"
   ]
  },
  {
   "cell_type": "code",
   "execution_count": null,
   "id": "10ec2192",
   "metadata": {},
   "outputs": [],
   "source": [
    "# build DNN model"
   ]
  },
  {
   "cell_type": "code",
   "execution_count": null,
   "id": "91a3c995",
   "metadata": {
    "scrolled": true
   },
   "outputs": [],
   "source": [
    "# start train model"
   ]
  },
  {
   "cell_type": "code",
   "execution_count": null,
   "id": "c4c7b7ab",
   "metadata": {},
   "outputs": [],
   "source": [
    "# validate your model using validation dataset\n",
    "# After prediction, you need to change your result and label from one-hot encoding to categorical encoding"
   ]
  },
  {
   "cell_type": "code",
   "execution_count": null,
   "id": "ad32aac2",
   "metadata": {},
   "outputs": [],
   "source": [
    "# using sklearn classification_report function to show your validation result"
   ]
  },
  {
   "cell_type": "markdown",
   "id": "a238a4de",
   "metadata": {},
   "source": [
    "# Testing phase"
   ]
  },
  {
   "cell_type": "markdown",
   "id": "11a5ee11",
   "metadata": {},
   "source": [
    "### Load Data"
   ]
  },
  {
   "cell_type": "code",
   "execution_count": null,
   "id": "60669151",
   "metadata": {},
   "outputs": [],
   "source": [
    "# load test.csv file as dataframe"
   ]
  },
  {
   "cell_type": "markdown",
   "id": "7f156e31",
   "metadata": {},
   "source": [
    "### Data Preprocessing"
   ]
  },
  {
   "cell_type": "code",
   "execution_count": null,
   "id": "3e0f7d67",
   "metadata": {},
   "outputs": [],
   "source": [
    "# Preprocessing is the same as training"
   ]
  },
  {
   "cell_type": "markdown",
   "id": "74e8093d",
   "metadata": {},
   "source": [
    "### Predict the result using your model"
   ]
  },
  {
   "cell_type": "code",
   "execution_count": null,
   "id": "a7cebac1",
   "metadata": {},
   "outputs": [],
   "source": [
    "# X_test: feature"
   ]
  },
  {
   "cell_type": "code",
   "execution_count": null,
   "id": "c026fc98",
   "metadata": {
    "scrolled": true
   },
   "outputs": [],
   "source": [
    "# Prediction"
   ]
  },
  {
   "cell_type": "code",
   "execution_count": null,
   "id": "21737552",
   "metadata": {},
   "outputs": [],
   "source": [
    "# Generate submit.csv"
   ]
  }
 ],
 "metadata": {
  "kernelspec": {
   "display_name": "Python 3 (ipykernel)",
   "language": "python",
   "name": "python3"
  },
  "language_info": {
   "codemirror_mode": {
    "name": "ipython",
    "version": 3
   },
   "file_extension": ".py",
   "mimetype": "text/x-python",
   "name": "python",
   "nbconvert_exporter": "python",
   "pygments_lexer": "ipython3",
   "version": "3.9.12"
  }
 },
 "nbformat": 4,
 "nbformat_minor": 5
}
